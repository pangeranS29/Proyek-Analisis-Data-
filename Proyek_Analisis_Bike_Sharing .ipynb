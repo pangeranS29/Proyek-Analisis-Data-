{
 "cells": [
  {
   "cell_type": "markdown",
   "metadata": {
    "id": "H9wADwK78DCz"
   },
   "source": [
    "# Proyek Analisis Data: [Input Nama Dataset]\n",
    "- **Nama:** [Pangeran Silaen]\n",
    "- **Email:** [pangeransilaen1417@gmail.com]\n",
    "- **ID Dicoding:** [MC114D5Y1975]"
   ]
  },
  {
   "cell_type": "markdown",
   "metadata": {
    "id": "eE0raob58DC0"
   },
   "source": [
    "## Menentukan Pertanyaan Bisnis"
   ]
  },
  {
   "cell_type": "markdown",
   "metadata": {
    "id": "GmQeQ5YF8DC0"
   },
   "source": [
    "- Pertanyaan 1 : Bagaimana pengaruh cuaca terhadap jumlah penyewaan sepeda?\n",
    "- Pertanyaan 2 : Kapan waktu dengan jumlah penyewaan sepeda terbanyak?"
   ]
  },
  {
   "cell_type": "markdown",
   "metadata": {
    "id": "H-z4QGlO8DC1"
   },
   "source": [
    "## Import Semua Packages/Library yang Digunakan"
   ]
  },
  {
   "cell_type": "code",
   "execution_count": 2,
   "metadata": {
    "id": "FVYwaObI8DC1"
   },
   "outputs": [],
   "source": [
    "import numpy as np\n",
    "import pandas as pd\n",
    "import matplotlib.pyplot as plt\n",
    "import seaborn as sns\n",
    "from datetime import datetime"
   ]
  },
  {
   "cell_type": "markdown",
   "metadata": {
    "id": "h_Sh51Xy8DC1"
   },
   "source": [
    "## Data Wrangling"
   ]
  },
  {
   "cell_type": "markdown",
   "metadata": {
    "id": "sXU2GBYu8DC1"
   },
   "source": [
    "### Gathering Data"
   ]
  },
  {
   "cell_type": "code",
   "execution_count": null,
   "metadata": {
    "id": "zjCBk1BI8DC1"
   },
   "outputs": [
    {
     "name": "stdout",
     "output_type": "stream",
     "text": [
      "=== Informasi Dataset Day ===\n",
      "<class 'pandas.core.frame.DataFrame'>\n",
      "RangeIndex: 731 entries, 0 to 730\n",
      "Data columns (total 16 columns):\n",
      " #   Column      Non-Null Count  Dtype  \n",
      "---  ------      --------------  -----  \n",
      " 0   instant     731 non-null    int64  \n",
      " 1   dteday      731 non-null    object \n",
      " 2   season      731 non-null    int64  \n",
      " 3   yr          731 non-null    int64  \n",
      " 4   mnth        731 non-null    int64  \n",
      " 5   holiday     731 non-null    int64  \n",
      " 6   weekday     731 non-null    int64  \n",
      " 7   workingday  731 non-null    int64  \n",
      " 8   weathersit  731 non-null    int64  \n",
      " 9   temp        731 non-null    float64\n",
      " 10  atemp       731 non-null    float64\n",
      " 11  hum         731 non-null    float64\n",
      " 12  windspeed   731 non-null    float64\n",
      " 13  casual      731 non-null    int64  \n",
      " 14  registered  731 non-null    int64  \n",
      " 15  cnt         731 non-null    int64  \n",
      "dtypes: float64(4), int64(11), object(1)\n",
      "memory usage: 91.5+ KB\n",
      "None \n",
      "\n",
      "   instant      dteday  season  yr  mnth  holiday  weekday  workingday  \\\n",
      "0        1  2011-01-01       1   0     1        0        6           0   \n",
      "1        2  2011-01-02       1   0     1        0        0           0   \n",
      "2        3  2011-01-03       1   0     1        0        1           1   \n",
      "3        4  2011-01-04       1   0     1        0        2           1   \n",
      "4        5  2011-01-05       1   0     1        0        3           1   \n",
      "\n",
      "   weathersit      temp     atemp       hum  windspeed  casual  registered  \\\n",
      "0           2  0.344167  0.363625  0.805833   0.160446     331         654   \n",
      "1           2  0.363478  0.353739  0.696087   0.248539     131         670   \n",
      "2           1  0.196364  0.189405  0.437273   0.248309     120        1229   \n",
      "3           1  0.200000  0.212122  0.590435   0.160296     108        1454   \n",
      "4           1  0.226957  0.229270  0.436957   0.186900      82        1518   \n",
      "\n",
      "    cnt  \n",
      "0   985  \n",
      "1   801  \n",
      "2  1349  \n",
      "3  1562  \n",
      "4  1600   \n",
      "\n",
      "=== Informasi Dataset Hour ===\n",
      "<class 'pandas.core.frame.DataFrame'>\n",
      "RangeIndex: 17379 entries, 0 to 17378\n",
      "Data columns (total 17 columns):\n",
      " #   Column      Non-Null Count  Dtype  \n",
      "---  ------      --------------  -----  \n",
      " 0   instant     17379 non-null  int64  \n",
      " 1   dteday      17379 non-null  object \n",
      " 2   season      17379 non-null  int64  \n",
      " 3   yr          17379 non-null  int64  \n",
      " 4   mnth        17379 non-null  int64  \n",
      " 5   hr          17379 non-null  int64  \n",
      " 6   holiday     17379 non-null  int64  \n",
      " 7   weekday     17379 non-null  int64  \n",
      " 8   workingday  17379 non-null  int64  \n",
      " 9   weathersit  17379 non-null  int64  \n",
      " 10  temp        17379 non-null  float64\n",
      " 11  atemp       17379 non-null  float64\n",
      " 12  hum         17379 non-null  float64\n",
      " 13  windspeed   17379 non-null  float64\n",
      " 14  casual      17379 non-null  int64  \n",
      " 15  registered  17379 non-null  int64  \n",
      " 16  cnt         17379 non-null  int64  \n",
      "dtypes: float64(4), int64(12), object(1)\n",
      "memory usage: 2.3+ MB\n",
      "None \n",
      "\n",
      "   instant      dteday  season  yr  mnth  hr  holiday  weekday  workingday  \\\n",
      "0        1  2011-01-01       1   0     1   0        0        6           0   \n",
      "1        2  2011-01-01       1   0     1   1        0        6           0   \n",
      "2        3  2011-01-01       1   0     1   2        0        6           0   \n",
      "3        4  2011-01-01       1   0     1   3        0        6           0   \n",
      "4        5  2011-01-01       1   0     1   4        0        6           0   \n",
      "\n",
      "   weathersit  temp   atemp   hum  windspeed  casual  registered  cnt  \n",
      "0           1  0.24  0.2879  0.81        0.0       3          13   16  \n",
      "1           1  0.22  0.2727  0.80        0.0       8          32   40  \n",
      "2           1  0.22  0.2727  0.80        0.0       5          27   32  \n",
      "3           1  0.24  0.2879  0.75        0.0       3          10   13  \n",
      "4           1  0.24  0.2879  0.75        0.0       0           1    1  \n"
     ]
    }
   ],
   "source": [
    "import pandas as pd\n",
    "import os\n",
    "\n",
    "data_dir = r\"D:\\DICODING\\submission\\data\"\n",
    "\n",
    "\n",
    "day_file = os.path.join(data_dir, \"day.csv\")\n",
    "hour_file = os.path.join(data_dir, \"hour.csv\")\n",
    "\n",
    "if os.path.exists(day_file) and os.path.exists(hour_file):\n",
    "  \n",
    "    day_df = pd.read_csv(day_file)\n",
    "    hour_df = pd.read_csv(hour_file)\n",
    "    \n",
    "    \n",
    "    print(\"=== Informasi Dataset Day ===\")\n",
    "    print(day_df.info(), \"\\n\")\n",
    "    print(day_df.head(), \"\\n\")\n",
    "    \n",
    "    print(\"=== Informasi Dataset Hour ===\")\n",
    "    print(hour_df.info(), \"\\n\")\n",
    "    print(hour_df.head())\n",
    "\n",
    "else:\n",
    "    print(\"File tidak ditemukan. Periksa kembali path dataset.\")\n"
   ]
  },
  {
   "cell_type": "markdown",
   "metadata": {
    "id": "MMi6xGaDkbCi"
   },
   "source": [
    "**Insight:**\n",
    "- Pola penyewaan sepeda menunjukkan peningkatan pada pagi (07:00 - 09:00) dan sore (17:00 - 19:00), kemungkinan besar karena jam berangkat dan pulang kerja.\n",
    "- Kondisi cuaca sangat mempengaruhi jumlah penyewaan sepeda. Penyewaan menurun saat cuaca buruk (hujan/salju).\n",
    "- Musim panas memiliki tingkat penyewaan yang lebih tinggi dibandingkan musim dingin, yang mengindikasikan bahwa suhu berperan dalam keputusan pelanggan untuk menyewa sepeda.\n",
    "- Pada hari kerja, peminjaman lebih tinggi pada jam sibuk dibandingkan akhir pekan yang memiliki pola lebih stabil sepanjang hari."
   ]
  },
  {
   "cell_type": "markdown",
   "metadata": {
    "id": "FHSiqaZp8DC1"
   },
   "source": [
    "### Assessing Data"
   ]
  },
  {
   "cell_type": "code",
   "execution_count": null,
   "metadata": {
    "id": "ax-3tEjc9Cj1"
   },
   "outputs": [
    {
     "name": "stdout",
     "output_type": "stream",
     "text": [
      "=== Struktur Dataset Day ===\n",
      "<class 'pandas.core.frame.DataFrame'>\n",
      "RangeIndex: 731 entries, 0 to 730\n",
      "Data columns (total 16 columns):\n",
      " #   Column      Non-Null Count  Dtype  \n",
      "---  ------      --------------  -----  \n",
      " 0   instant     731 non-null    int64  \n",
      " 1   dteday      731 non-null    object \n",
      " 2   season      731 non-null    int64  \n",
      " 3   yr          731 non-null    int64  \n",
      " 4   mnth        731 non-null    int64  \n",
      " 5   holiday     731 non-null    int64  \n",
      " 6   weekday     731 non-null    int64  \n",
      " 7   workingday  731 non-null    int64  \n",
      " 8   weathersit  731 non-null    int64  \n",
      " 9   temp        731 non-null    float64\n",
      " 10  atemp       731 non-null    float64\n",
      " 11  hum         731 non-null    float64\n",
      " 12  windspeed   731 non-null    float64\n",
      " 13  casual      731 non-null    int64  \n",
      " 14  registered  731 non-null    int64  \n",
      " 15  cnt         731 non-null    int64  \n",
      "dtypes: float64(4), int64(11), object(1)\n",
      "memory usage: 91.5+ KB\n",
      "None \n",
      "\n",
      "=== Struktur Dataset Hour ===\n",
      "<class 'pandas.core.frame.DataFrame'>\n",
      "RangeIndex: 17379 entries, 0 to 17378\n",
      "Data columns (total 17 columns):\n",
      " #   Column      Non-Null Count  Dtype  \n",
      "---  ------      --------------  -----  \n",
      " 0   instant     17379 non-null  int64  \n",
      " 1   dteday      17379 non-null  object \n",
      " 2   season      17379 non-null  int64  \n",
      " 3   yr          17379 non-null  int64  \n",
      " 4   mnth        17379 non-null  int64  \n",
      " 5   hr          17379 non-null  int64  \n",
      " 6   holiday     17379 non-null  int64  \n",
      " 7   weekday     17379 non-null  int64  \n",
      " 8   workingday  17379 non-null  int64  \n",
      " 9   weathersit  17379 non-null  int64  \n",
      " 10  temp        17379 non-null  float64\n",
      " 11  atemp       17379 non-null  float64\n",
      " 12  hum         17379 non-null  float64\n",
      " 13  windspeed   17379 non-null  float64\n",
      " 14  casual      17379 non-null  int64  \n",
      " 15  registered  17379 non-null  int64  \n",
      " 16  cnt         17379 non-null  int64  \n",
      "dtypes: float64(4), int64(12), object(1)\n",
      "memory usage: 2.3+ MB\n",
      "None \n",
      "\n",
      "=== Cek Nilai Hilang ===\n",
      "Dataset Day:\n",
      " instant       0\n",
      "dteday        0\n",
      "season        0\n",
      "yr            0\n",
      "mnth          0\n",
      "holiday       0\n",
      "weekday       0\n",
      "workingday    0\n",
      "weathersit    0\n",
      "temp          0\n",
      "atemp         0\n",
      "hum           0\n",
      "windspeed     0\n",
      "casual        0\n",
      "registered    0\n",
      "cnt           0\n",
      "dtype: int64 \n",
      "\n",
      "Dataset Hour:\n",
      " instant       0\n",
      "dteday        0\n",
      "season        0\n",
      "yr            0\n",
      "mnth          0\n",
      "hr            0\n",
      "holiday       0\n",
      "weekday       0\n",
      "workingday    0\n",
      "weathersit    0\n",
      "temp          0\n",
      "atemp         0\n",
      "hum           0\n",
      "windspeed     0\n",
      "casual        0\n",
      "registered    0\n",
      "cnt           0\n",
      "dtype: int64 \n",
      "\n",
      "=== Cek Data Duplikat ===\n",
      "Jumlah duplikasi di day.csv: 0\n",
      "Jumlah duplikasi di hour.csv: 0 \n",
      "\n",
      "=== Statistik Deskriptif ===\n",
      "          instant      season          yr        mnth     holiday     weekday  \\\n",
      "count  731.000000  731.000000  731.000000  731.000000  731.000000  731.000000   \n",
      "mean   366.000000    2.496580    0.500684    6.519836    0.028728    2.997264   \n",
      "std    211.165812    1.110807    0.500342    3.451913    0.167155    2.004787   \n",
      "min      1.000000    1.000000    0.000000    1.000000    0.000000    0.000000   \n",
      "25%    183.500000    2.000000    0.000000    4.000000    0.000000    1.000000   \n",
      "50%    366.000000    3.000000    1.000000    7.000000    0.000000    3.000000   \n",
      "75%    548.500000    3.000000    1.000000   10.000000    0.000000    5.000000   \n",
      "max    731.000000    4.000000    1.000000   12.000000    1.000000    6.000000   \n",
      "\n",
      "       workingday  weathersit        temp       atemp         hum   windspeed  \\\n",
      "count  731.000000  731.000000  731.000000  731.000000  731.000000  731.000000   \n",
      "mean     0.683995    1.395349    0.495385    0.474354    0.627894    0.190486   \n",
      "std      0.465233    0.544894    0.183051    0.162961    0.142429    0.077498   \n",
      "min      0.000000    1.000000    0.059130    0.079070    0.000000    0.022392   \n",
      "25%      0.000000    1.000000    0.337083    0.337842    0.520000    0.134950   \n",
      "50%      1.000000    1.000000    0.498333    0.486733    0.626667    0.180975   \n",
      "75%      1.000000    2.000000    0.655417    0.608602    0.730209    0.233214   \n",
      "max      1.000000    3.000000    0.861667    0.840896    0.972500    0.507463   \n",
      "\n",
      "            casual   registered          cnt  \n",
      "count   731.000000   731.000000   731.000000  \n",
      "mean    848.176471  3656.172367  4504.348837  \n",
      "std     686.622488  1560.256377  1937.211452  \n",
      "min       2.000000    20.000000    22.000000  \n",
      "25%     315.500000  2497.000000  3152.000000  \n",
      "50%     713.000000  3662.000000  4548.000000  \n",
      "75%    1096.000000  4776.500000  5956.000000  \n",
      "max    3410.000000  6946.000000  8714.000000   \n",
      "\n",
      "          instant        season            yr          mnth            hr  \\\n",
      "count  17379.0000  17379.000000  17379.000000  17379.000000  17379.000000   \n",
      "mean    8690.0000      2.501640      0.502561      6.537775     11.546752   \n",
      "std     5017.0295      1.106918      0.500008      3.438776      6.914405   \n",
      "min        1.0000      1.000000      0.000000      1.000000      0.000000   \n",
      "25%     4345.5000      2.000000      0.000000      4.000000      6.000000   \n",
      "50%     8690.0000      3.000000      1.000000      7.000000     12.000000   \n",
      "75%    13034.5000      3.000000      1.000000     10.000000     18.000000   \n",
      "max    17379.0000      4.000000      1.000000     12.000000     23.000000   \n",
      "\n",
      "            holiday       weekday    workingday    weathersit          temp  \\\n",
      "count  17379.000000  17379.000000  17379.000000  17379.000000  17379.000000   \n",
      "mean       0.028770      3.003683      0.682721      1.425283      0.496987   \n",
      "std        0.167165      2.005771      0.465431      0.639357      0.192556   \n",
      "min        0.000000      0.000000      0.000000      1.000000      0.020000   \n",
      "25%        0.000000      1.000000      0.000000      1.000000      0.340000   \n",
      "50%        0.000000      3.000000      1.000000      1.000000      0.500000   \n",
      "75%        0.000000      5.000000      1.000000      2.000000      0.660000   \n",
      "max        1.000000      6.000000      1.000000      4.000000      1.000000   \n",
      "\n",
      "              atemp           hum     windspeed        casual    registered  \\\n",
      "count  17379.000000  17379.000000  17379.000000  17379.000000  17379.000000   \n",
      "mean       0.475775      0.627229      0.190098     35.676218    153.786869   \n",
      "std        0.171850      0.192930      0.122340     49.305030    151.357286   \n",
      "min        0.000000      0.000000      0.000000      0.000000      0.000000   \n",
      "25%        0.333300      0.480000      0.104500      4.000000     34.000000   \n",
      "50%        0.484800      0.630000      0.194000     17.000000    115.000000   \n",
      "75%        0.621200      0.780000      0.253700     48.000000    220.000000   \n",
      "max        1.000000      1.000000      0.850700    367.000000    886.000000   \n",
      "\n",
      "                cnt  \n",
      "count  17379.000000  \n",
      "mean     189.463088  \n",
      "std      181.387599  \n",
      "min        1.000000  \n",
      "25%       40.000000  \n",
      "50%      142.000000  \n",
      "75%      281.000000  \n",
      "max      977.000000   \n",
      "\n"
     ]
    }
   ],
   "source": [
    "import pandas as pd\n",
    "import os\n",
    "\n",
    "\n",
    "data_dir = r\"D:\\DICODING\\submission\\data\"\n",
    "day_file = os.path.join(data_dir, \"day.csv\")\n",
    "hour_file = os.path.join(data_dir, \"hour.csv\")\n",
    "\n",
    "day_df = pd.read_csv(day_file)\n",
    "hour_df = pd.read_csv(hour_file)\n",
    "\n",
    "\n",
    "print(\"=== Struktur Dataset Day ===\")\n",
    "print(day_df.info(), \"\\n\")\n",
    "\n",
    "print(\"=== Struktur Dataset Hour ===\")\n",
    "print(hour_df.info(), \"\\n\")\n",
    "\n",
    "\n",
    "print(\"=== Cek Nilai Hilang ===\")\n",
    "print(\"Dataset Day:\\n\", day_df.isnull().sum(), \"\\n\")\n",
    "print(\"Dataset Hour:\\n\", hour_df.isnull().sum(), \"\\n\")\n",
    "\n",
    "\n",
    "print(\"=== Cek Data Duplikat ===\")\n",
    "print(\"Jumlah duplikasi di day.csv:\", day_df.duplicated().sum())\n",
    "print(\"Jumlah duplikasi di hour.csv:\", hour_df.duplicated().sum(), \"\\n\")\n",
    "\n",
    "\n",
    "print(\"=== Statistik Deskriptif ===\")\n",
    "print(day_df.describe(), \"\\n\")\n",
    "print(hour_df.describe(), \"\\n\")\n"
   ]
  },
  {
   "cell_type": "markdown",
   "metadata": {
    "id": "7dtxhAPrkhPL"
   },
   "source": [
    "**Insight:**\n",
    "Dataset memiliki total X baris dan Y kolom di `day.csv`, serta Z baris dan W kolom di `hour.csv`.\n",
    "- Tidak ditemukan nilai yang hilang di dataset / Terdapat beberapa nilai hilang di kolom `xxx` dan perlu ditangani.\n",
    "- Tidak ditemukan data duplikat / Ditemukan X baris duplikat yang perlu dihapus.\n",
    "- Beberapa kolom seperti `dteday` masih dalam format string, sehingga perlu dikonversi ke `datetime`.\n",
    "- Statistik menunjukkan bahwa ada beberapa nilai ekstrem dalam kolom `cnt`, yang kemungkinan merupakan outliers."
   ]
  },
  {
   "cell_type": "markdown",
   "metadata": {
    "id": "EhN5R4hr8DC1"
   },
   "source": [
    "### Cleaning Data"
   ]
  },
  {
   "cell_type": "code",
   "execution_count": null,
   "metadata": {
    "id": "jVnYpprE9Evz"
   },
   "outputs": [
    {
     "name": "stdout",
     "output_type": "stream",
     "text": [
      "Nilai hilang sebelum cleaning:\n",
      "instant       0\n",
      "dteday        0\n",
      "season        0\n",
      "yr            0\n",
      "mnth          0\n",
      "holiday       0\n",
      "weekday       0\n",
      "workingday    0\n",
      "weathersit    0\n",
      "temp          0\n",
      "atemp         0\n",
      "hum           0\n",
      "windspeed     0\n",
      "casual        0\n",
      "registered    0\n",
      "cnt           0\n",
      "dtype: int64 \n",
      "\n",
      "instant       0\n",
      "dteday        0\n",
      "season        0\n",
      "yr            0\n",
      "mnth          0\n",
      "hr            0\n",
      "holiday       0\n",
      "weekday       0\n",
      "workingday    0\n",
      "weathersit    0\n",
      "temp          0\n",
      "atemp         0\n",
      "hum           0\n",
      "windspeed     0\n",
      "casual        0\n",
      "registered    0\n",
      "cnt           0\n",
      "dtype: int64 \n",
      "\n",
      "=== Statistik Data Setelah Cleaning ===\n",
      "          instant               dteday      season          yr        mnth  \\\n",
      "count  731.000000                  731  731.000000  731.000000  731.000000   \n",
      "mean   366.000000  2012-01-01 00:00:00    2.496580    0.500684    6.519836   \n",
      "min      1.000000  2011-01-01 00:00:00    1.000000    0.000000    1.000000   \n",
      "25%    183.500000  2011-07-02 12:00:00    2.000000    0.000000    4.000000   \n",
      "50%    366.000000  2012-01-01 00:00:00    3.000000    1.000000    7.000000   \n",
      "75%    548.500000  2012-07-01 12:00:00    3.000000    1.000000   10.000000   \n",
      "max    731.000000  2012-12-31 00:00:00    4.000000    1.000000   12.000000   \n",
      "std    211.165812                  NaN    1.110807    0.500342    3.451913   \n",
      "\n",
      "          holiday     weekday  workingday  weathersit        temp       atemp  \\\n",
      "count  731.000000  731.000000  731.000000  731.000000  731.000000  731.000000   \n",
      "mean     0.028728    2.997264    0.683995    1.395349    0.495385    0.474354   \n",
      "min      0.000000    0.000000    0.000000    1.000000    0.059130    0.079070   \n",
      "25%      0.000000    1.000000    0.000000    1.000000    0.337083    0.337842   \n",
      "50%      0.000000    3.000000    1.000000    1.000000    0.498333    0.486733   \n",
      "75%      0.000000    5.000000    1.000000    2.000000    0.655417    0.608602   \n",
      "max      1.000000    6.000000    1.000000    3.000000    0.861667    0.840896   \n",
      "std      0.167155    2.004787    0.465233    0.544894    0.183051    0.162961   \n",
      "\n",
      "              hum   windspeed       casual   registered          cnt  \n",
      "count  731.000000  731.000000   731.000000   731.000000   731.000000  \n",
      "mean     0.627894    0.190486   848.176471  3656.172367  4504.348837  \n",
      "min      0.000000    0.022392     2.000000    20.000000    22.000000  \n",
      "25%      0.520000    0.134950   315.500000  2497.000000  3152.000000  \n",
      "50%      0.626667    0.180975   713.000000  3662.000000  4548.000000  \n",
      "75%      0.730209    0.233214  1096.000000  4776.500000  5956.000000  \n",
      "max      0.972500    0.507463  3410.000000  6946.000000  8714.000000  \n",
      "std      0.142429    0.077498   686.622488  1560.256377  1937.211452   \n",
      "\n",
      "          instant                         dteday        season            yr  \\\n",
      "count  17379.0000                          17379  17379.000000  17379.000000   \n",
      "mean    8690.0000  2012-01-02 04:08:34.552045568      2.501640      0.502561   \n",
      "min        1.0000            2011-01-01 00:00:00      1.000000      0.000000   \n",
      "25%     4345.5000            2011-07-04 00:00:00      2.000000      0.000000   \n",
      "50%     8690.0000            2012-01-02 00:00:00      3.000000      1.000000   \n",
      "75%    13034.5000            2012-07-02 00:00:00      3.000000      1.000000   \n",
      "max    17379.0000            2012-12-31 00:00:00      4.000000      1.000000   \n",
      "std     5017.0295                            NaN      1.106918      0.500008   \n",
      "\n",
      "               mnth            hr       holiday       weekday    workingday  \\\n",
      "count  17379.000000  17379.000000  17379.000000  17379.000000  17379.000000   \n",
      "mean       6.537775     11.546752      0.028770      3.003683      0.682721   \n",
      "min        1.000000      0.000000      0.000000      0.000000      0.000000   \n",
      "25%        4.000000      6.000000      0.000000      1.000000      0.000000   \n",
      "50%        7.000000     12.000000      0.000000      3.000000      1.000000   \n",
      "75%       10.000000     18.000000      0.000000      5.000000      1.000000   \n",
      "max       12.000000     23.000000      1.000000      6.000000      1.000000   \n",
      "std        3.438776      6.914405      0.167165      2.005771      0.465431   \n",
      "\n",
      "         weathersit          temp         atemp           hum     windspeed  \\\n",
      "count  17379.000000  17379.000000  17379.000000  17379.000000  17379.000000   \n",
      "mean       1.425283      0.496987      0.475775      0.627229      0.190098   \n",
      "min        1.000000      0.020000      0.000000      0.000000      0.000000   \n",
      "25%        1.000000      0.340000      0.333300      0.480000      0.104500   \n",
      "50%        1.000000      0.500000      0.484800      0.630000      0.194000   \n",
      "75%        2.000000      0.660000      0.621200      0.780000      0.253700   \n",
      "max        4.000000      1.000000      1.000000      1.000000      0.850700   \n",
      "std        0.639357      0.192556      0.171850      0.192930      0.122340   \n",
      "\n",
      "             casual    registered           cnt  \n",
      "count  17379.000000  17379.000000  17379.000000  \n",
      "mean      35.676218    153.786869    189.463088  \n",
      "min        0.000000      0.000000      1.000000  \n",
      "25%        4.000000     34.000000     40.000000  \n",
      "50%       17.000000    115.000000    142.000000  \n",
      "75%       48.000000    220.000000    281.000000  \n",
      "max      367.000000    886.000000    977.000000  \n",
      "std       49.305030    151.357286    181.387599   \n",
      "\n",
      "Cleaning data selesai! Dataset telah disimpan sebagai 'clean_day.csv' dan 'clean_hour.csv'.\n"
     ]
    }
   ],
   "source": [
    "import pandas as pd\n",
    "import os\n",
    "\n",
    "\n",
    "data_dir = r\"D:\\DICODING\\submission\\data\"\n",
    "day_file = os.path.join(data_dir, \"day.csv\")\n",
    "hour_file = os.path.join(data_dir, \"hour.csv\")\n",
    "\n",
    "\n",
    "day_df = pd.read_csv(day_file)\n",
    "hour_df = pd.read_csv(hour_file)\n",
    "\n",
    "# ====== 1. Menghapus Data Duplikat ======\n",
    "day_df.drop_duplicates(inplace=True)\n",
    "hour_df.drop_duplicates(inplace=True)\n",
    "\n",
    "# ====== 2. Menangani Nilai Hilang ======\n",
    "# Cek apakah ada nilai yang hilang\n",
    "print(\"Nilai hilang sebelum cleaning:\")\n",
    "print(day_df.isnull().sum(), \"\\n\")\n",
    "print(hour_df.isnull().sum(), \"\\n\")\n",
    "\n",
    "# Jika ada nilai hilang, isi dengan metode yang sesuai (contoh: mean atau median)\n",
    "# day_df[\"nama_kolom\"].fillna(day_df[\"nama_kolom\"].mean(), inplace=True)\n",
    "\n",
    "# ====== 3. Mengubah Tipe Data ======\n",
    "# Ubah kolom tanggal ke format datetime\n",
    "day_df[\"dteday\"] = pd.to_datetime(day_df[\"dteday\"])\n",
    "hour_df[\"dteday\"] = pd.to_datetime(hour_df[\"dteday\"])\n",
    "\n",
    "# ====== 4. Menangani Outlier ======\n",
    "# Menampilkan statistik deskriptif untuk melihat outlier\n",
    "print(\"=== Statistik Data Setelah Cleaning ===\")\n",
    "print(day_df.describe(), \"\\n\")\n",
    "print(hour_df.describe(), \"\\n\")\n",
    "\n",
    "# Contoh menangani outlier dengan IQR (Interquartile Range)\n",
    "Q1 = day_df[\"cnt\"].quantile(0.25)\n",
    "Q3 = day_df[\"cnt\"].quantile(0.75)\n",
    "IQR = Q3 - Q1\n",
    "lower_bound = Q1 - 1.5 * IQR\n",
    "upper_bound = Q3 + 1.5 * IQR\n",
    "\n",
    "# Hapus data di luar batas IQR\n",
    "day_df = day_df[(day_df[\"cnt\"] >= lower_bound) & (day_df[\"cnt\"] <= upper_bound)]\n",
    "\n",
    "# ====== 5. Menyimpan Data yang Sudah Bersih ======\n",
    "day_df.to_csv(os.path.join(data_dir, \"clean_day.csv\"), index=False)\n",
    "hour_df.to_csv(os.path.join(data_dir, \"clean_hour.csv\"), index=False)\n",
    "\n",
    "print(\"Cleaning data selesai! Dataset telah disimpan sebagai 'clean_day.csv' dan 'clean_hour.csv'.\")\n"
   ]
  },
  {
   "cell_type": "markdown",
   "metadata": {
    "id": "Q_5ejIqckiSP"
   },
   "source": [
    "**Insight:**\n",
    "- Menghapus X baris data duplikat untuk memastikan tidak ada pengulangan data.\n",
    "- Tidak ditemukan nilai yang hilang / Nilai hilang pada kolom `xxx` telah diisi menggunakan metode `xxx`.\n",
    "- Mengubah tipe data kolom `dteday` dari string ke format datetime agar lebih mudah dianalisis.\n",
    "- Menghapus outlier pada kolom `cnt` menggunakan metode IQR untuk memastikan data lebih representatif.\n",
    "- Dataset yang sudah bersih telah disimpan dalam file `clean_day.csv` dan `clean_hour.csv`."
   ]
  },
  {
   "cell_type": "markdown",
   "metadata": {
    "id": "gp-Y6wU38DC1"
   },
   "source": [
    "## Exploratory Data Analysis (EDA)"
   ]
  },
  {
   "cell_type": "markdown",
   "metadata": {
    "id": "MW7WF2kr8DC1"
   },
   "source": [
    "### Explore ..."
   ]
  },
  {
   "cell_type": "code",
   "execution_count": 18,
   "metadata": {
    "id": "e9CQCZjk8DC2"
   },
   "outputs": [
    {
     "name": "stdout",
     "output_type": "stream",
     "text": [
      "📌 Lima data pertama:\n",
      "    instant      dteday  season  yr  mnth  holiday  weekday  workingday  \\\n",
      "0        1  2011-01-01       1   0     1        0        6           0   \n",
      "1        2  2011-01-02       1   0     1        0        0           0   \n",
      "2        3  2011-01-03       1   0     1        0        1           1   \n",
      "3        4  2011-01-04       1   0     1        0        2           1   \n",
      "4        5  2011-01-05       1   0     1        0        3           1   \n",
      "\n",
      "   weathersit      temp     atemp       hum  windspeed  casual  registered  \\\n",
      "0           2  0.344167  0.363625  0.805833   0.160446     331         654   \n",
      "1           2  0.363478  0.353739  0.696087   0.248539     131         670   \n",
      "2           1  0.196364  0.189405  0.437273   0.248309     120        1229   \n",
      "3           1  0.200000  0.212122  0.590435   0.160296     108        1454   \n",
      "4           1  0.226957  0.229270  0.436957   0.186900      82        1518   \n",
      "\n",
      "    cnt  \n",
      "0   985  \n",
      "1   801  \n",
      "2  1349  \n",
      "3  1562  \n",
      "4  1600  \n",
      "\n",
      "📌 Informasi dataset:\n",
      "\n",
      "<class 'pandas.core.frame.DataFrame'>\n",
      "RangeIndex: 731 entries, 0 to 730\n",
      "Data columns (total 16 columns):\n",
      " #   Column      Non-Null Count  Dtype  \n",
      "---  ------      --------------  -----  \n",
      " 0   instant     731 non-null    int64  \n",
      " 1   dteday      731 non-null    object \n",
      " 2   season      731 non-null    int64  \n",
      " 3   yr          731 non-null    int64  \n",
      " 4   mnth        731 non-null    int64  \n",
      " 5   holiday     731 non-null    int64  \n",
      " 6   weekday     731 non-null    int64  \n",
      " 7   workingday  731 non-null    int64  \n",
      " 8   weathersit  731 non-null    int64  \n",
      " 9   temp        731 non-null    float64\n",
      " 10  atemp       731 non-null    float64\n",
      " 11  hum         731 non-null    float64\n",
      " 12  windspeed   731 non-null    float64\n",
      " 13  casual      731 non-null    int64  \n",
      " 14  registered  731 non-null    int64  \n",
      " 15  cnt         731 non-null    int64  \n",
      "dtypes: float64(4), int64(11), object(1)\n",
      "memory usage: 91.5+ KB\n",
      "None\n",
      "\n",
      "📌 Statistik deskriptif:\n",
      "\n",
      "          instant      season          yr        mnth     holiday     weekday  \\\n",
      "count  731.000000  731.000000  731.000000  731.000000  731.000000  731.000000   \n",
      "mean   366.000000    2.496580    0.500684    6.519836    0.028728    2.997264   \n",
      "std    211.165812    1.110807    0.500342    3.451913    0.167155    2.004787   \n",
      "min      1.000000    1.000000    0.000000    1.000000    0.000000    0.000000   \n",
      "25%    183.500000    2.000000    0.000000    4.000000    0.000000    1.000000   \n",
      "50%    366.000000    3.000000    1.000000    7.000000    0.000000    3.000000   \n",
      "75%    548.500000    3.000000    1.000000   10.000000    0.000000    5.000000   \n",
      "max    731.000000    4.000000    1.000000   12.000000    1.000000    6.000000   \n",
      "\n",
      "       workingday  weathersit        temp       atemp         hum   windspeed  \\\n",
      "count  731.000000  731.000000  731.000000  731.000000  731.000000  731.000000   \n",
      "mean     0.683995    1.395349    0.495385    0.474354    0.627894    0.190486   \n",
      "std      0.465233    0.544894    0.183051    0.162961    0.142429    0.077498   \n",
      "min      0.000000    1.000000    0.059130    0.079070    0.000000    0.022392   \n",
      "25%      0.000000    1.000000    0.337083    0.337842    0.520000    0.134950   \n",
      "50%      1.000000    1.000000    0.498333    0.486733    0.626667    0.180975   \n",
      "75%      1.000000    2.000000    0.655417    0.608602    0.730209    0.233214   \n",
      "max      1.000000    3.000000    0.861667    0.840896    0.972500    0.507463   \n",
      "\n",
      "            casual   registered          cnt  \n",
      "count   731.000000   731.000000   731.000000  \n",
      "mean    848.176471  3656.172367  4504.348837  \n",
      "std     686.622488  1560.256377  1937.211452  \n",
      "min       2.000000    20.000000    22.000000  \n",
      "25%     315.500000  2497.000000  3152.000000  \n",
      "50%     713.000000  3662.000000  4548.000000  \n",
      "75%    1096.000000  4776.500000  5956.000000  \n",
      "max    3410.000000  6946.000000  8714.000000  \n",
      "\n",
      "📌 Jumlah missing values per kolom:\n",
      "\n",
      "instant       0\n",
      "dteday        0\n",
      "season        0\n",
      "yr            0\n",
      "mnth          0\n",
      "holiday       0\n",
      "weekday       0\n",
      "workingday    0\n",
      "weathersit    0\n",
      "temp          0\n",
      "atemp         0\n",
      "hum           0\n",
      "windspeed     0\n",
      "casual        0\n",
      "registered    0\n",
      "cnt           0\n",
      "dtype: int64\n",
      "\n",
      "📌 Distribusi nilai penyewaan sepeda:\n",
      "\n",
      "count     731.000000\n",
      "mean     4504.348837\n",
      "std      1937.211452\n",
      "min        22.000000\n",
      "25%      3152.000000\n",
      "50%      4548.000000\n",
      "75%      5956.000000\n",
      "max      8714.000000\n",
      "Name: cnt, dtype: float64\n",
      "\n",
      "📌 Korelasi antar variabel:\n",
      "\n",
      "             instant    season        yr      mnth   holiday   weekday  \\\n",
      "instant     1.000000  0.412224  0.866025  0.496702  0.016145 -0.000016   \n",
      "season      0.412224  1.000000 -0.001844  0.831440 -0.010537 -0.003080   \n",
      "yr          0.866025 -0.001844  1.000000 -0.001792  0.007954 -0.005461   \n",
      "mnth        0.496702  0.831440 -0.001792  1.000000  0.019191  0.009509   \n",
      "holiday     0.016145 -0.010537  0.007954  0.019191  1.000000 -0.101960   \n",
      "weekday    -0.000016 -0.003080 -0.005461  0.009509 -0.101960  1.000000   \n",
      "workingday -0.004337  0.012485 -0.002013 -0.005901 -0.253023  0.035790   \n",
      "weathersit -0.021477  0.019211 -0.048727  0.043528 -0.034627  0.031087   \n",
      "temp        0.150580  0.334315  0.047604  0.220205 -0.028556 -0.000170   \n",
      "atemp       0.152638  0.342876  0.046106  0.227459 -0.032507 -0.007537   \n",
      "hum         0.016375  0.205445 -0.110651  0.222204 -0.015937 -0.052232   \n",
      "windspeed  -0.112620 -0.229046 -0.011817 -0.207502  0.006292  0.014282   \n",
      "casual      0.275255  0.210399  0.248546  0.123006  0.054274  0.059923   \n",
      "registered  0.659623  0.411623  0.594248  0.293488 -0.108745  0.057367   \n",
      "cnt         0.628830  0.406100  0.566710  0.279977 -0.068348  0.067443   \n",
      "\n",
      "            workingday  weathersit      temp     atemp       hum  windspeed  \\\n",
      "instant      -0.004337   -0.021477  0.150580  0.152638  0.016375  -0.112620   \n",
      "season        0.012485    0.019211  0.334315  0.342876  0.205445  -0.229046   \n",
      "yr           -0.002013   -0.048727  0.047604  0.046106 -0.110651  -0.011817   \n",
      "mnth         -0.005901    0.043528  0.220205  0.227459  0.222204  -0.207502   \n",
      "holiday      -0.253023   -0.034627 -0.028556 -0.032507 -0.015937   0.006292   \n",
      "weekday       0.035790    0.031087 -0.000170 -0.007537 -0.052232   0.014282   \n",
      "workingday    1.000000    0.061200  0.052660  0.052182  0.024327  -0.018796   \n",
      "weathersit    0.061200    1.000000 -0.120602 -0.121583  0.591045   0.039511   \n",
      "temp          0.052660   -0.120602  1.000000  0.991702  0.126963  -0.157944   \n",
      "atemp         0.052182   -0.121583  0.991702  1.000000  0.139988  -0.183643   \n",
      "hum           0.024327    0.591045  0.126963  0.139988  1.000000  -0.248489   \n",
      "windspeed    -0.018796    0.039511 -0.157944 -0.183643 -0.248489   1.000000   \n",
      "casual       -0.518044   -0.247353  0.543285  0.543864 -0.077008  -0.167613   \n",
      "registered    0.303907   -0.260388  0.540012  0.544192 -0.091089  -0.217449   \n",
      "cnt           0.061156   -0.297391  0.627494  0.631066 -0.100659  -0.234545   \n",
      "\n",
      "              casual  registered       cnt  \n",
      "instant     0.275255    0.659623  0.628830  \n",
      "season      0.210399    0.411623  0.406100  \n",
      "yr          0.248546    0.594248  0.566710  \n",
      "mnth        0.123006    0.293488  0.279977  \n",
      "holiday     0.054274   -0.108745 -0.068348  \n",
      "weekday     0.059923    0.057367  0.067443  \n",
      "workingday -0.518044    0.303907  0.061156  \n",
      "weathersit -0.247353   -0.260388 -0.297391  \n",
      "temp        0.543285    0.540012  0.627494  \n",
      "atemp       0.543864    0.544192  0.631066  \n",
      "hum        -0.077008   -0.091089 -0.100659  \n",
      "windspeed  -0.167613   -0.217449 -0.234545  \n",
      "casual      1.000000    0.395282  0.672804  \n",
      "registered  0.395282    1.000000  0.945517  \n",
      "cnt         0.672804    0.945517  1.000000  \n"
     ]
    }
   ],
   "source": [
    "import pandas as pd\n",
    "import os\n",
    "\n",
    "# Path dataset yang telah dibersihkan\n",
    "data_dir = r\"D:\\DICODING\\submission\\data\"\n",
    "clean_day_file = os.path.join(data_dir, \"clean_day.csv\")\n",
    "\n",
    "# Load dataset yang telah dibersihkan\n",
    "day_df = pd.read_csv(clean_day_file)\n",
    "\n",
    "# 1. Melihat 5 data pertama\n",
    "print(\"📌 Lima data pertama:\\n\", day_df.head())\n",
    "\n",
    "# 2. Melihat informasi tipe data & missing values\n",
    "print(\"\\n📌 Informasi dataset:\\n\")\n",
    "print(day_df.info())\n",
    "\n",
    "# 3. Statistik deskriptif\n",
    "print(\"\\n📌 Statistik deskriptif:\\n\")\n",
    "print(day_df.describe())\n",
    "\n",
    "# 4. Mengecek jumlah data yang hilang\n",
    "print(\"\\n📌 Jumlah missing values per kolom:\\n\")\n",
    "print(day_df.isnull().sum())\n",
    "\n",
    "# 5. Mengecek distribusi jumlah penyewaan\n",
    "print(\"\\n📌 Distribusi nilai penyewaan sepeda:\\n\")\n",
    "print(day_df[\"cnt\"].describe())\n",
    "\n",
    "\n",
    "# 6. Mengecek korelasi antar variabel\n",
    "print(\"\\n📌 Korelasi antar variabel:\\n\")\n",
    "print(day_df.corr(numeric_only=True))\n"
   ]
  },
  {
   "cell_type": "markdown",
   "metadata": {
    "id": "zsyZjqak8DC2"
   },
   "source": [
    "## Visualization & Explanatory Analysis"
   ]
  },
  {
   "cell_type": "markdown",
   "metadata": {
    "id": "HZxOiQ6n8DC2"
   },
   "source": [
    "### Pertanyaan 1: Hari apa yang memiliki jumlah penyewaan tertinggi?"
   ]
  },
  {
   "cell_type": "code",
   "execution_count": 20,
   "metadata": {},
   "outputs": [
    {
     "name": "stderr",
     "output_type": "stream",
     "text": [
      "C:\\Users\\User\\AppData\\Local\\Temp\\ipykernel_5348\\3611608684.py:6: FutureWarning: \n",
      "\n",
      "Passing `palette` without assigning `hue` is deprecated and will be removed in v0.14.0. Assign the `x` variable to `hue` and set `legend=False` for the same effect.\n",
      "\n",
      "  sns.barplot(x='weekday', y='cnt', data=day_df, palette='viridis')\n"
     ]
    },
    {
     "data": {
      "image/png": "[encoded data removed]",
      "text/plain": [
       "<Figure size 1000x500 with 1 Axes>"
      ]
     },
     "metadata": {},
     "output_type": "display_data"
    }
   ],
   "source": [
    "import matplotlib.pyplot as plt\n",
    "import seaborn as sns\n",
    "\n",
    "# Kelompokkan berdasarkan hari dalam seminggu\n",
    "plt.figure(figsize=(10, 5))\n",
    "sns.barplot(x='weekday', y='cnt', data=day_df, palette='viridis')\n",
    "\n",
    "plt.xlabel('Hari dalam Seminggu')\n",
    "plt.ylabel('Jumlah Penyewaan')\n",
    "plt.title('Jumlah Penyewaan Sepeda Berdasarkan Hari')\n",
    "plt.xticks(ticks=range(7), labels=['Senin', 'Selasa', 'Rabu', 'Kamis', 'Jumat', 'Sabtu', 'Minggu'])\n",
    "\n",
    "plt.show()\n"
   ]
  },
  {
   "cell_type": "markdown",
   "metadata": {
    "id": "DgHI7CiU8DC2"
   },
   "source": [
    "### Pertanyaan 2: Bagaimana Pengaruh Musim terhadap Jumlah Penyewaan Sepeda?"
   ]
  },
  {
   "cell_type": "code",
   "execution_count": null,
   "metadata": {},
   "outputs": [
    {
     "name": "stderr",
     "output_type": "stream",
     "text": [
      "C:\\Users\\User\\AppData\\Local\\Temp\\ipykernel_5348\\1419483430.py:2: FutureWarning: \n",
      "\n",
      "Passing `palette` without assigning `hue` is deprecated and will be removed in v0.14.0. Assign the `x` variable to `hue` and set `legend=False` for the same effect.\n",
      "\n",
      "  sns.barplot(x='season', y='cnt', data=day_df, palette='coolwarm')\n"
     ]
    },
    {
     "data": {
      "image/png": "[encoded data removed]",
      "text/plain": [
       "<Figure size 800x500 with 1 Axes>"
      ]
     },
     "metadata": {},
     "output_type": "display_data"
    }
   ],
   "source": [
    "plt.figure(figsize=(8, 5))\n",
    "sns.barplot(x='season', y='cnt', data=day_df, palette='coolwarm')\n",
    "\n",
    "plt.xlabel('Musim')\n",
    "plt.ylabel('Jumlah Penyewaan')\n",
    "plt.title('Jumlah Penyewaan Sepeda Berdasarkan Musim')\n",
    "plt.xticks(ticks=[0,1,2,3], labels=['Semi', 'Panas', 'Gugur', 'Dingin'])\n",
    "\n",
    "plt.show()\n"
   ]
  },
  {
   "cell_type": "markdown",
   "metadata": {
    "id": "_0-36BDLklRg"
   },
   "source": [
    "**Insight:**\n",
    "- Pertanyaan 1  Penyewaan tertinggi biasanya terjadi pada hari Jumat atau Sabtu, kemungkinan karena lebih banyak orang bersepeda untuk rekreasi.\n",
    "- Pertanyaan 2  Musim Semi memiliki jumlah penyewaan sepeda terendah. Hal ini mungkin disebabkan oleh cuaca yang masih tidak stabil atau kondisi lingkungan yang belum optimal untuk bersepeda setelah musim dingin."
   ]
  },
  {
   "cell_type": "markdown",
   "metadata": {
    "id": "_WeHlCeX8DC2"
   },
   "source": [
    "## Conclusion"
   ]
  },
  {
   "cell_type": "markdown",
   "metadata": {
    "id": "ZTcyR48Y8DC2"
   },
   "source": [
    "- Bagaimana pengaruh musim terhadap jumlah penyewaan sepeda?\n",
    "Kesimpulan:\n",
    "Musim Gugur memiliki jumlah penyewaan tertinggi, sementara Musim Semi memiliki jumlah penyewaan terendah.\n",
    "\n",
    "-Faktor cuaca apa yang paling berpengaruh terhadap jumlah penyewaan sepeda?\n",
    "Kesimpulan:\n",
    "Suhu memiliki korelasi positif dengan jumlah penyewaan, artinya semakin hangat suhu, semakin banyak sepeda yang disewa."
   ]
  }
 ],
 "metadata": {
  "colab": {
   "provenance": []
  },
  "kernelspec": {
   "display_name": "Python 3 (ipykernel)",
   "language": "python",
   "name": "python3"
  },
  "language_info": {
   "codemirror_mode": {
    "name": "ipython",
    "version": 3
   },
   "file_extension": ".py",
   "mimetype": "text/x-python",
   "name": "python",
   "nbconvert_exporter": "python",
   "pygments_lexer": "ipython3",
   "version": "3.12.4"
  },
  "vscode": {
   "interpreter": {
    "hash": "972b3bf27e332e87b5379f2791f6ef9dfc79c71018c370b0d7423235e20fe4d7"
   }
  }
 },
 "nbformat": 4,
 "nbformat_minor": 4
}

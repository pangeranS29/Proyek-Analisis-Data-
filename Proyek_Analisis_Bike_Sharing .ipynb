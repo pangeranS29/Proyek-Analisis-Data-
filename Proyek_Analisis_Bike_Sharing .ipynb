{
 "cells": [
  {
   "cell_type": "markdown",
   "metadata": {
    "id": "H9wADwK78DCz"
   },
   "source": [
    "# Proyek Analisis Data: [Bike Sharing Dataset]\n",
    "- **Nama:** [Pangeran Silaen]\n",
    "- **Email:** [pangeransilaen1417@gmail.com]\n",
    "- **ID Dicoding:** [MC114D5Y1975]"
   ]
  },
  {
   "cell_type": "markdown",
   "metadata": {
    "id": "eE0raob58DC0"
   },
   "source": [
    "## Menentukan Pertanyaan Bisnis"
   ]
  },
  {
   "cell_type": "markdown",
   "metadata": {
    "id": "GmQeQ5YF8DC0"
   },
   "source": [
    "- Pertanyaan 1 : Bagaimana pengaruh cuaca terhadap jumlah  penyewaan sepeda?\n",
    "- Pertanyaan 2 : Kapan waktu dengan jumlah penyewaan sepeda terbanyak?"
   ]
  },
  {
   "cell_type": "markdown",
   "metadata": {
    "id": "H-z4QGlO8DC1"
   },
   "source": [
    "## Import Semua Packages/Library yang Digunakan"
   ]
  },
  {
   "cell_type": "code",
   "execution_count": 2,
   "metadata": {
    "id": "FVYwaObI8DC1"
   },
   "outputs": [],
   "source": [
    "import numpy as np\n",
    "import pandas as pd\n",
    "import matplotlib.pyplot as plt\n",
    "import seaborn as sns\n",
    "from datetime import datetime"
   ]
  },
  {
   "cell_type": "markdown",
   "metadata": {
    "id": "h_Sh51Xy8DC1"
   },
   "source": [
    "## Data Wrangling"
   ]
  },
  {
   "cell_type": "markdown",
   "metadata": {
    "id": "sXU2GBYu8DC1"
   },
   "source": [
    "### Gathering Data"
   ]
  },
  {
   "cell_type": "code",
   "execution_count": 3,
   "metadata": {
    "id": "zjCBk1BI8DC1"
   },
   "outputs": [
    {
     "name": "stdout",
     "output_type": "stream",
     "text": [
      "\n",
      "--- Gathering Data ---\n",
      "✅ Dataset berhasil dimuat.\n",
      "\n"
     ]
    }
   ],
   "source": [
    "import pandas as pd\n",
    "import os\n",
    "\n",
    "# Gathering Data: Memuat data hanya sekali\n",
    "print(\"\\n--- Gathering Data ---\")\n",
    "data_dir = r\"D:\\DICODING\\submission\\data\"  \n",
    "day_file = os.path.join(data_dir, \"day.csv\")\n",
    "hour_file = os.path.join(data_dir, \"hour.csv\")\n",
    "\n",
    "try:\n",
    "    day_df = pd.read_csv(day_file)\n",
    "    hour_df = pd.read_csv(hour_file)\n",
    "    print(\"✅ Dataset berhasil dimuat.\\n\")\n",
    "except FileNotFoundError:\n",
    "    print(\"❌ Error: File tidak ditemukan. Periksa kembali path dataset.\\n\")\n"
   ]
  },
  {
   "cell_type": "markdown",
   "metadata": {
    "id": "MMi6xGaDkbCi"
   },
   "source": [
    "**Insight:**\n",
    "- Dataset telah berhasil dimuat dari sumbernya tanpa kesalahan.\n",
    "- Data terdiri dari dua file: day.csv (data harian) dan hour.csv (data per jam).\n",
    "- Setiap file berisi informasi terkait penyewaan sepeda dalam rentang waktu tertentu."
   ]
  },
  {
   "cell_type": "markdown",
   "metadata": {
    "id": "FHSiqaZp8DC1"
   },
   "source": [
    "### Assessing Data"
   ]
  },
  {
   "cell_type": "code",
   "execution_count": 8,
   "metadata": {
    "id": "ax-3tEjc9Cj1"
   },
   "outputs": [
    {
     "name": "stdout",
     "output_type": "stream",
     "text": [
      "\n",
      "--- Assessing Data ---\n",
      "\n",
      "Informasi dataset Day:\n",
      "<class 'pandas.core.frame.DataFrame'>\n",
      "RangeIndex: 731 entries, 0 to 730\n",
      "Data columns (total 16 columns):\n",
      " #   Column      Non-Null Count  Dtype  \n",
      "---  ------      --------------  -----  \n",
      " 0   instant     731 non-null    int64  \n",
      " 1   dteday      731 non-null    object \n",
      " 2   season      731 non-null    int64  \n",
      " 3   yr          731 non-null    int64  \n",
      " 4   mnth        731 non-null    int64  \n",
      " 5   holiday     731 non-null    int64  \n",
      " 6   weekday     731 non-null    int64  \n",
      " 7   workingday  731 non-null    int64  \n",
      " 8   weathersit  731 non-null    int64  \n",
      " 9   temp        731 non-null    float64\n",
      " 10  atemp       731 non-null    float64\n",
      " 11  hum         731 non-null    float64\n",
      " 12  windspeed   731 non-null    float64\n",
      " 13  casual      731 non-null    int64  \n",
      " 14  registered  731 non-null    int64  \n",
      " 15  cnt         731 non-null    int64  \n",
      "dtypes: float64(4), int64(11), object(1)\n",
      "memory usage: 91.5+ KB\n",
      "None\n",
      "\n",
      "Cek missing values pada Day:\n",
      "instant       0\n",
      "dteday        0\n",
      "season        0\n",
      "yr            0\n",
      "mnth          0\n",
      "holiday       0\n",
      "weekday       0\n",
      "workingday    0\n",
      "weathersit    0\n",
      "temp          0\n",
      "atemp         0\n",
      "hum           0\n",
      "windspeed     0\n",
      "casual        0\n",
      "registered    0\n",
      "cnt           0\n",
      "dtype: int64\n",
      "\n",
      "Cek duplikasi pada Day:\n",
      "Jumlah duplikasi di day.csv: 0\n",
      "\n",
      "Informasi dataset Hour:\n",
      "<class 'pandas.core.frame.DataFrame'>\n",
      "RangeIndex: 17379 entries, 0 to 17378\n",
      "Data columns (total 17 columns):\n",
      " #   Column      Non-Null Count  Dtype  \n",
      "---  ------      --------------  -----  \n",
      " 0   instant     17379 non-null  int64  \n",
      " 1   dteday      17379 non-null  object \n",
      " 2   season      17379 non-null  int64  \n",
      " 3   yr          17379 non-null  int64  \n",
      " 4   mnth        17379 non-null  int64  \n",
      " 5   hr          17379 non-null  int64  \n",
      " 6   holiday     17379 non-null  int64  \n",
      " 7   weekday     17379 non-null  int64  \n",
      " 8   workingday  17379 non-null  int64  \n",
      " 9   weathersit  17379 non-null  int64  \n",
      " 10  temp        17379 non-null  float64\n",
      " 11  atemp       17379 non-null  float64\n",
      " 12  hum         17379 non-null  float64\n",
      " 13  windspeed   17379 non-null  float64\n",
      " 14  casual      17379 non-null  int64  \n",
      " 15  registered  17379 non-null  int64  \n",
      " 16  cnt         17379 non-null  int64  \n",
      "dtypes: float64(4), int64(12), object(1)\n",
      "memory usage: 2.3+ MB\n",
      "None\n",
      "\n",
      "Cek missing values pada Hour:\n",
      "instant       0\n",
      "dteday        0\n",
      "season        0\n",
      "yr            0\n",
      "mnth          0\n",
      "hr            0\n",
      "holiday       0\n",
      "weekday       0\n",
      "workingday    0\n",
      "weathersit    0\n",
      "temp          0\n",
      "atemp         0\n",
      "hum           0\n",
      "windspeed     0\n",
      "casual        0\n",
      "registered    0\n",
      "cnt           0\n",
      "dtype: int64\n",
      "\n",
      "Cek duplikasi pada Hour:\n",
      "Jumlah duplikasi di hour.csv: 0\n"
     ]
    }
   ],
   "source": [
    "# Assessing Data\n",
    "print(\"\\n--- Assessing Data ---\")  # Perbaiki tanda kutip\n",
    "print(\"\\nInformasi dataset Day:\")\n",
    "print(day_df.info())\n",
    "\n",
    "print(\"\\nCek missing values pada Day:\")\n",
    "print(day_df.isnull().sum())\n",
    "\n",
    "print(\"\\nCek duplikasi pada Day:\")\n",
    "print(\"Jumlah duplikasi di day.csv:\", day_df.duplicated().sum())\n",
    "\n",
    "print(\"\\nInformasi dataset Hour:\")\n",
    "print(hour_df.info())\n",
    "\n",
    "print(\"\\nCek missing values pada Hour:\")\n",
    "print(hour_df.isnull().sum())\n",
    "\n",
    "print(\"\\nCek duplikasi pada Hour:\")\n",
    "print(\"Jumlah duplikasi di hour.csv:\", hour_df.duplicated().sum())\n"
   ]
  },
  {
   "cell_type": "markdown",
   "metadata": {
    "id": "7dtxhAPrkhPL"
   },
   "source": [
    "**Insight:**\n",
    "- Tidak ditemukan nilai yang hilang dalam dataset.\n",
    "- Terdapat beberapa kolom kategorikal yang perlu dikonversi ke format yang lebih sesuai.\n",
    "- Tidak ada duplikasi data, sehingga data dapat langsung digunakan untuk analisis lebih lanjut."
   ]
  },
  {
   "cell_type": "markdown",
   "metadata": {
    "id": "EhN5R4hr8DC1"
   },
   "source": [
    "### Cleaning Data"
   ]
  },
  {
   "cell_type": "code",
   "execution_count": 11,
   "metadata": {
    "id": "jVnYpprE9Evz"
   },
   "outputs": [
    {
     "name": "stdout",
     "output_type": "stream",
     "text": [
      "\n",
      "--- Cleaning Data ---\n",
      "Cleaning selesai. Data telah disimpan.\n",
      "\n"
     ]
    }
   ],
   "source": [
    "# Cleaning Data\n",
    "print(\"\\n--- Cleaning Data ---\")  # Perbaiki tanda kutip\n",
    "\n",
    "import pandas as pd\n",
    "import os\n",
    "\n",
    "# Menghapus data duplikat\n",
    "day_df.drop_duplicates(inplace=True)\n",
    "hour_df.drop_duplicates(inplace=True)\n",
    "\n",
    "# Mengubah tipe data kolom tanggal\n",
    "day_df[\"dteday\"] = pd.to_datetime(day_df[\"dteday\"])\n",
    "hour_df[\"dteday\"] = pd.to_datetime(hour_df[\"dteday\"])\n",
    "\n",
    "# Menangani outlier pada 'cnt' (jumlah penyewaan sepeda)\n",
    "Q1 = day_df[\"cnt\"].quantile(0.25)\n",
    "Q3 = day_df[\"cnt\"].quantile(0.75)\n",
    "IQR = Q3 - Q1\n",
    "lower_bound = Q1 - 1.5 * IQR\n",
    "upper_bound = Q3 + 1.5 * IQR\n",
    "\n",
    "day_df = day_df[(day_df[\"cnt\"] >= lower_bound) & (day_df[\"cnt\"] <= upper_bound)]\n",
    "\n",
    "# Menyimpan data yang telah dibersihkan\n",
    "clean_day_file = os.path.join(data_dir, \"clean_day.csv\")\n",
    "clean_hour_file = os.path.join(data_dir, \"clean_hour.csv\")\n",
    "\n",
    "day_df.to_csv(clean_day_file, index=False)\n",
    "hour_df.to_csv(clean_hour_file, index=False)\n",
    "\n",
    "print(\"Cleaning selesai. Data telah disimpan.\\n\")\n"
   ]
  },
  {
   "cell_type": "markdown",
   "metadata": {
    "id": "Q_5ejIqckiSP"
   },
   "source": [
    "**Insight:**\n",
    "- Data telah dibersihkan dengan mengubah tipe data yang sesuai (misalnya, konversi kolom tanggal ke format datetime).\n",
    "- Data duplikat telah dihapus, sehingga analisis menjadi lebih akurat.\n",
    "- Tidak ditemukan nilai outlier yang signifikan dalam jumlah penyewaan sepeda, sehingga data dapat digunakan langsung untuk eksplorasi lebih lanjut."
   ]
  },
  {
   "cell_type": "markdown",
   "metadata": {
    "id": "gp-Y6wU38DC1"
   },
   "source": [
    "## Exploratory Data Analysis (EDA)"
   ]
  },
  {
   "cell_type": "markdown",
   "metadata": {
    "id": "zsyZjqak8DC2"
   },
   "source": [
    "## Visualization & Explanatory Analysis"
   ]
  },
  {
   "cell_type": "markdown",
   "metadata": {
    "id": "HZxOiQ6n8DC2"
   },
   "source": [
    "### Pertanyaan 1: Bagaimana pengaruh cuaca terhadap jumlah  penyewaan sepeda?"
   ]
  },
  {
   "cell_type": "code",
   "execution_count": 31,
   "metadata": {},
   "outputs": [
    {
     "name": "stdout",
     "output_type": "stream",
     "text": [
      "\n",
      "--- Pertanyaan 1: Pengaruh Cuaca terhadap Penyewaan Sepeda ---\n"
     ]
    },
    {
     "data": {
      "image/png": "[encoded data removed]",
      "text/plain": [
       "<Figure size 1000x500 with 1 Axes>"
      ]
     },
     "metadata": {},
     "output_type": "display_data"
    }
   ],
   "source": [
    "# Import library\n",
    "import matplotlib.pyplot as plt\n",
    "import seaborn as sns\n",
    "\n",
    "print(\"\\n--- Pertanyaan 1: Pengaruh Cuaca terhadap Penyewaan Sepeda ---\")\n",
    "\n",
    "# Visualisasi pengaruh cuaca terhadap jumlah penyewaan sepeda\n",
    "plt.figure(figsize=(10, 5))\n",
    "sns.boxplot(x='weathersit', y='cnt', data=day_df)\n",
    "\n",
    "# Menambahkan label dan judul\n",
    "plt.xlabel(\"Cuaca\")\n",
    "plt.ylabel(\"Jumlah Penyewaan Sepeda\")\n",
    "plt.title(\"Pengaruh Cuaca terhadap Jumlah Penyewaan Sepeda\")\n",
    "\n",
    "\n",
    "plt.xticks([0, 1, 2, 3], ['Cerah', 'Berawan', 'Hujan Ringan', 'Hujan Lebat'])\n",
    "\n",
    "# Menampilkan grafik\n",
    "plt.show()\n"
   ]
  },
  {
   "cell_type": "markdown",
   "metadata": {
    "id": "_0-36BDLklRg"
   },
   "source": [
    "**Insight:**\n",
    "- Dari grafik boxplot, kita bisa melihat bahwa cuaca sangat memengaruhi jumlah penyewaan sepeda.\n",
    "- Cuaca cerah (Cerah) memiliki jumlah penyewaan tertinggi, karena kondisi ini paling mendukung untuk bersepeda.\n",
    "- Cuaca buruk (Hujan Lebat) menyebabkan penurunan drastis dalam penyewaan sepeda, karena hujan deras membuat orang enggan menggunakan sepeda."
   ]
  },
  {
   "cell_type": "markdown",
   "metadata": {
    "id": "DgHI7CiU8DC2"
   },
   "source": [
    "### Pertanyaan 2: Kapan waktu dengan jumlah penyewaan sepeda terbanyak?"
   ]
  },
  {
   "cell_type": "code",
   "execution_count": 20,
   "metadata": {},
   "outputs": [
    {
     "name": "stdout",
     "output_type": "stream",
     "text": [
      "\n",
      "--- Pertanyaan 2: Waktu dengan Jumlah Penyewaan Sepeda Terbanyak ---\n"
     ]
    },
    {
     "name": "stderr",
     "output_type": "stream",
     "text": [
      "C:\\Users\\User\\AppData\\Local\\Temp\\ipykernel_19292\\759862999.py:6: FutureWarning: \n",
      "\n",
      "The `ci` parameter is deprecated. Use `errorbar=None` for the same effect.\n",
      "\n",
      "  sns.lineplot(x='hr', y='cnt', data=hour_df, ci=None, marker=\"o\", linestyle=\"-\")\n"
     ]
    },
    {
     "data": {
      "image/png": "[encoded data removed]",
      "text/plain": [
       "<Figure size 1000x500 with 1 Axes>"
      ]
     },
     "metadata": {},
     "output_type": "display_data"
    }
   ],
   "source": [
    "print(\"\\n--- Pertanyaan 2: Waktu dengan Jumlah Penyewaan Sepeda Terbanyak ---\")\n",
    "\n",
    "# Pastikan kolom 'hr' ada di hour_df sebelum visualisasi\n",
    "if 'hr' in hour_df.columns:\n",
    "    plt.figure(figsize=(10, 5))\n",
    "    sns.lineplot(x='hr', y='cnt', data=hour_df, ci=None, marker=\"o\", linestyle=\"-\")\n",
    "\n",
    "    # Menambahkan label dan judul\n",
    "    plt.xlabel(\"Jam\")\n",
    "    plt.ylabel(\"Jumlah Penyewaan Sepeda\")\n",
    "    plt.title(\"Distribusi Penyewaan Sepeda per Jam\")\n",
    "\n",
    "    # Menampilkan semua jam dari 0-23\n",
    "    plt.xticks(range(0, 24))\n",
    "\n",
    "    # Menambahkan grid untuk meningkatkan keterbacaan\n",
    "    plt.grid(True)\n",
    "\n",
    "    # Menampilkan grafik\n",
    "    plt.show()\n",
    "else:\n",
    "    print(\"Kolom 'hr' tidak ditemukan di hour_df. Pastikan dataset sudah benar.\")\n"
   ]
  },
  {
   "cell_type": "markdown",
   "metadata": {
    "id": "_0-36BDLklRg"
   },
   "source": [
    "**Insight:**\n",
    "- Dari grafik jumlah penyewaan sepeda per jam, terlihat bahwa puncak penyewaan terjadi pada pagi hari (sekitar jam 7-9) dan sore hari (sekitar jam 17-19).\n",
    "- Hal ini dapat dikaitkan dengan waktu orang-orang berangkat dan pulang kerja.\n",
    "- Pada malam hari, jumlah penyewaan menurun karena penggunaan sepeda lebih rendah saat itu."
   ]
  },
  {
   "cell_type": "markdown",
   "metadata": {
    "id": "_WeHlCeX8DC2"
   },
   "source": [
    "## Conclusion"
   ]
  },
  {
   "cell_type": "markdown",
   "metadata": {
    "id": "ZTcyR48Y8DC2"
   },
   "source": [
    "📌 Pertanyaan 1: Bagaimana pengaruh cuaca terhadap jumlah penyewaan sepeda?\n",
    "-\n",
    "📝 Kesimpulan:\n",
    "\n",
    "- Cuaca yang lebih cerah memiliki jumlah penyewaan sepeda yang lebih tinggi dibandingkan dengan cuaca berawan atau hujan.\n",
    "- Saat hujan ringan, jumlah penyewaan menurun cukup drastis.\n",
    "- Ketika terjadi hujan lebat, jumlah penyewaan sepeda sangat rendah.\n",
    "- Hal ini menunjukkan bahwa cuaca berpengaruh signifikan terhadap keputusan pengguna dalam menyewa sepeda.\n",
    "\n",
    "📌 Pertanyaan 2: Kapan waktu dengan jumlah penyewaan sepeda terbanyak?\n",
    "-\n",
    "📝 Kesimpulan:\n",
    "\n",
    "- Jumlah penyewaan sepeda paling tinggi terjadi pada jam sibuk pagi (07:00 - 09:00) dan sore (17:00 - 19:00).\n",
    "- Hal ini menunjukkan bahwa banyak pengguna yang menyewa sepeda sebagai alat transportasi untuk pergi dan pulang kerja/sekolah.\n",
    "- Pada malam hari dan dini hari (00:00 - 05:00), jumlah penyewaan sangat rendah.\n",
    "- Dari pola ini, operator penyewaan sepeda dapat menyesuaikan jumlah sepeda yang tersedia sesuai dengan jam sibuk.\n"
   ]
  }
 ],
 "metadata": {
  "colab": {
   "provenance": []
  },
  "kernelspec": {
   "display_name": "Python 3 (ipykernel)",
   "language": "python",
   "name": "python3"
  },
  "language_info": {
   "codemirror_mode": {
    "name": "ipython",
    "version": 3
   },
   "file_extension": ".py",
   "mimetype": "text/x-python",
   "name": "python",
   "nbconvert_exporter": "python",
   "pygments_lexer": "ipython3",
   "version": "3.12.4"
  },
  "vscode": {
   "interpreter": {
    "hash": "972b3bf27e332e87b5379f2791f6ef9dfc79c71018c370b0d7423235e20fe4d7"
   }
  }
 },
 "nbformat": 4,
 "nbformat_minor": 4
}
